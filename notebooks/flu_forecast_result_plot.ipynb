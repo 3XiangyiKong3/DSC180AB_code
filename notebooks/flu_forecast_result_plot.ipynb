{
 "cells": [
  {
   "cell_type": "code",
   "execution_count": 1,
   "metadata": {},
   "outputs": [],
   "source": [
    "import numpy as np\n",
    "import pickle\n",
    "import matplotlib.pyplot as plt\n",
    "import pandas as pd\n",
    "with open('/Users/xiangyikong/Desktop/week73/quantile_model_for_flu/data/sensor_graph/adj_mx.pkl', 'rb') as f:\n",
    "    states_data = pickle.load(f)"
   ]
  },
  {
   "cell_type": "code",
   "execution_count": 2,
   "metadata": {},
   "outputs": [],
   "source": [
    "states_in_the_prediction = ['01',\n",
    " '02',\n",
    " '04',\n",
    " '05',\n",
    " '06',\n",
    " '08',\n",
    " '09',\n",
    " '10',\n",
    " '12',\n",
    " '13',\n",
    " '15',\n",
    " '16',\n",
    " '17',\n",
    " '18',\n",
    " '19',\n",
    " '20',\n",
    " '21',\n",
    " '22',\n",
    " '23',\n",
    " '24',\n",
    " '25',\n",
    " '26',\n",
    " '27',\n",
    " '28',\n",
    " '29',\n",
    " '30',\n",
    " '31',\n",
    " '32',\n",
    " '33',\n",
    " '34',\n",
    " '35',\n",
    " '36',\n",
    " '37',\n",
    " '38',\n",
    " '39',\n",
    " '40',\n",
    " '41',\n",
    " '42',\n",
    " '44',\n",
    " '45',\n",
    " '46',\n",
    " '47',\n",
    " '48',\n",
    " '49',\n",
    " '50',\n",
    " '51',\n",
    " '53',\n",
    " '54',\n",
    " '55',\n",
    " '56']"
   ]
  },
  {
   "cell_type": "code",
   "execution_count": null,
   "metadata": {},
   "outputs": [],
   "source": []
  },
  {
   "cell_type": "code",
   "execution_count": null,
   "metadata": {},
   "outputs": [],
   "source": []
  },
  {
   "cell_type": "markdown",
   "metadata": {},
   "source": [
    "### Week 15\n",
    "#### Forecast weeks: week16,week17,week18,week19\n",
    "#### Forecast date: 2022-06-11, 2022-06-18, 2022-06-25, 2022-07-02"
   ]
  },
  {
   "cell_type": "code",
   "execution_count": null,
   "metadata": {},
   "outputs": [],
   "source": [
    "npz = np.load(\"/Users/xiangyikong/Desktop/week73/quantile_model_for_flu/plotweek15result/seed8epo277.npz\")\n",
    "pred = npz['prediction']\n",
    "truth = npz['truth']\n",
    "pred_reshaped = pred.reshape(50, 4 ,3)"
   ]
  },
  {
   "cell_type": "code",
   "execution_count": null,
   "metadata": {},
   "outputs": [],
   "source": [
    "median_prediction = []\n",
    "for i in range(50):\n",
    "    median_prediction.append(pred_reshaped[i,:,1])"
   ]
  },
  {
   "cell_type": "code",
   "execution_count": null,
   "metadata": {},
   "outputs": [],
   "source": [
    "dfg = pd.read_csv(\"/Users/xiangyikong/Desktop/week73/truth-Incident Hospitalizations.csv\")\n",
    "dfg['date'] = pd.to_datetime(dfg['date'])\n",
    "dfg_date_filtered = dfg[(dfg['date'] >= '2022-06-11') & (dfg['date'] <= '2022-07-02')]"
   ]
  },
  {
   "cell_type": "code",
   "execution_count": null,
   "metadata": {},
   "outputs": [],
   "source": [
    "dfg_date_filtered['date'].unique()"
   ]
  },
  {
   "cell_type": "code",
   "execution_count": null,
   "metadata": {},
   "outputs": [],
   "source": [
    "dfg_date_filtered_truth_filtered = dfg_date_filtered[dfg_date_filtered['location'].isin(states_in_the_prediction)]\n",
    "dfg_date_filtered_truth_filtered = dfg_date_filtered_truth_filtered.sort_values(by=['date', 'location'])\n",
    "dfg_date_filtered_truth_filtered"
   ]
  },
  {
   "cell_type": "code",
   "execution_count": null,
   "metadata": {},
   "outputs": [],
   "source": [
    "states = dfg_date_filtered_truth_filtered['location_name'].unique()"
   ]
  },
  {
   "cell_type": "code",
   "execution_count": null,
   "metadata": {},
   "outputs": [],
   "source": [
    "median_prediction = np.array(median_prediction)\n",
    "actual_number_perdiction = median_prediction + np.resize(dfg_date_filtered_truth_filtered['value'].to_numpy(), (4,50)).T"
   ]
  },
  {
   "cell_type": "code",
   "execution_count": null,
   "metadata": {},
   "outputs": [],
   "source": [
    "actual_number_perdiction"
   ]
  },
  {
   "cell_type": "code",
   "execution_count": null,
   "metadata": {},
   "outputs": [],
   "source": [
    "np.resize(dfg_date_filtered_truth_filtered['value'].to_numpy(), (4,50)).T"
   ]
  },
  {
   "cell_type": "markdown",
   "metadata": {},
   "source": [
    "#### Quantile Model"
   ]
  },
  {
   "cell_type": "code",
   "execution_count": null,
   "metadata": {},
   "outputs": [],
   "source": [
    "def get_plots_quantile_prediction(npz_file_location):\n",
    "    npz = np.load(npz_file_location)\n",
    "    pred = npz['prediction']\n",
    "    # truth = npz['truth']\n",
    "    ground_truth = np.resize(dfg_date_filtered_truth_filtered['value'].to_numpy(), (4,50)).T\n",
    "    # print(pred.shape,truth.shape)\n",
    "    # if \"quantile_model\" in npz_file_location:\n",
    "    #     pred_reshaped = pred.reshape(50, 4 ,3)\n",
    "    #     truth_reshaped = truth.reshape(50, 4)\n",
    "    # elif \"dropout_model\" in npz_file_location:\n",
    "    #     pred_reshaped = pred.reshape(50, 4)\n",
    "    #     truth_reshaped = truth.reshape(50, 4)\n",
    "    pred_reshaped = pred.reshape(50, 4 ,3)\n",
    "\n",
    "    # truth_reshaped = truth.reshape(50, 4)\n",
    "\n",
    "    x = np.arange(1,5)\n",
    "    # states = list(states_data[1])\n",
    "    states = dfg_date_filtered_truth_filtered['location_name'].unique()\n",
    "    for i in range(50):\n",
    "        plt.plot(x, pred_reshaped[i,:,1] + ground_truth[i,:],label=\"Prediction\")\n",
    "        plt.plot(x, pred_reshaped[i,:,0] + ground_truth[i,:],label=\"Lower Bound\")\n",
    "        plt.plot(x, pred_reshaped[i,:,2] + ground_truth[i,:],label=\"Upper Bound\")\n",
    "        plt.plot(x, ground_truth[i,:],label=\"Truth\")\n",
    "        plt.title(states[i])\n",
    "        plt.xlabel(\"Num of Weeks Ahead\")\n",
    "        plt.ylabel(\"Number of Flu Cases\")\n",
    "        plt.legend(loc='best')\n",
    "        plt.fill_between(x, pred_reshaped[i,:,0] + ground_truth[i,:],pred_reshaped[i,:,2] + ground_truth[i,:],color = 'green',alpha = 0.2)\n",
    "        plt.show()"
   ]
  },
  {
   "cell_type": "code",
   "execution_count": null,
   "metadata": {},
   "outputs": [],
   "source": [
    "get_plots_quantile_prediction(\"/Users/xiangyikong/Desktop/week73/quantile_model_for_flu/plotweek15result/seed8epo277.npz\")"
   ]
  },
  {
   "cell_type": "code",
   "execution_count": null,
   "metadata": {},
   "outputs": [],
   "source": [
    "def get_plots_quantile(npz_file_location,test_sets):\n",
    "    npz = np.load(npz_file_location)\n",
    "    pred = npz['prediction'].transpose((1,0,2,3))[test_sets]\n",
    "    # pred = npz['prediction']\n",
    "\n",
    "    truth = npz['truth'].transpose((1,0,2))[test_sets]\n",
    "    # ground_truth = np.resize(dfg_date_filtered_truth_filtered['value'].to_numpy(), (4,50)).T\n",
    "    # print(pred.shape,truth.shape)\n",
    "    # if \"quantile_model\" in npz_file_location:\n",
    "    #     pred_reshaped = pred.reshape(50, 4 ,3)\n",
    "    #     truth_reshaped = truth.reshape(50, 4)\n",
    "    # elif \"dropout_model\" in npz_file_location:\n",
    "    #     pred_reshaped = pred.reshape(50, 4)\n",
    "    #     truth_reshaped = truth.reshape(50, 4)\n",
    "    pred_reshaped = pred.reshape(50, 4 ,3)\n",
    "    truth_reshaped = truth.reshape(50, 4)\n",
    "\n",
    "    x = np.arange(1,5)\n",
    "    states = list(states_data[1])\n",
    "    states = dfg_date_filtered_truth_filtered['location_name'].unique()\n",
    "    for i in range(50):\n",
    "        plt.plot(x, pred_reshaped[i,:,1],label=\"Prediction\")\n",
    "        plt.plot(x, pred_reshaped[i,:,0],label=\"Lower Bound\")\n",
    "        plt.plot(x, pred_reshaped[i,:,2],label=\"Upper Bound\")\n",
    "        plt.plot(x, truth_reshaped[i,:],label=\"Truth\")\n",
    "        plt.title(states[i])\n",
    "        plt.xlabel(\"Num of Weeks Ahead\")\n",
    "        plt.ylabel(\"Residual between Predicted and True\")\n",
    "        plt.legend(loc='best')\n",
    "        plt.fill_between(x, pred_reshaped[i,:,0],pred_reshaped[i,:,2] ,color = 'green',alpha = 0.2)\n",
    "        plt.show()"
   ]
  },
  {
   "cell_type": "code",
   "execution_count": null,
   "metadata": {},
   "outputs": [],
   "source": [
    "get_plots_quantile(\"/Users/xiangyikong/Desktop/week73/quantile_model_for_flu/plotweek15_unshuffledresult/seed8epo247.npz\",0)"
   ]
  },
  {
   "cell_type": "code",
   "execution_count": null,
   "metadata": {},
   "outputs": [],
   "source": [
    "get_plots_quantile(\"/Users/xiangyikong/Desktop/week73/quantile_model_for_flu/plotweek15_unshuffledresult/seed8epo247.npz\",1)"
   ]
  },
  {
   "cell_type": "code",
   "execution_count": null,
   "metadata": {},
   "outputs": [],
   "source": [
    "get_plots_quantile(\"/Users/xiangyikong/Desktop/week73/quantile_model_for_flu/plotweek15_unshuffledresult/seed8epo247.npz\",2)"
   ]
  },
  {
   "cell_type": "code",
   "execution_count": null,
   "metadata": {},
   "outputs": [],
   "source": []
  },
  {
   "cell_type": "code",
   "execution_count": null,
   "metadata": {},
   "outputs": [],
   "source": []
  },
  {
   "cell_type": "code",
   "execution_count": null,
   "metadata": {},
   "outputs": [],
   "source": []
  },
  {
   "cell_type": "code",
   "execution_count": null,
   "metadata": {},
   "outputs": [],
   "source": []
  },
  {
   "cell_type": "code",
   "execution_count": null,
   "metadata": {},
   "outputs": [],
   "source": []
  },
  {
   "cell_type": "code",
   "execution_count": null,
   "metadata": {},
   "outputs": [],
   "source": []
  },
  {
   "cell_type": "code",
   "execution_count": null,
   "metadata": {},
   "outputs": [],
   "source": []
  },
  {
   "cell_type": "code",
   "execution_count": null,
   "metadata": {},
   "outputs": [],
   "source": []
  },
  {
   "cell_type": "markdown",
   "metadata": {},
   "source": [
    "#### Spline Quantile Model"
   ]
  },
  {
   "cell_type": "code",
   "execution_count": null,
   "metadata": {},
   "outputs": [],
   "source": [
    "low_prediction = np.load(\"/Users/xiangyikong/Desktop/DeepGLEAM/sq_model/model/pytorch/low_prediction.npy\")\n",
    "median_prediction = np.load(\"/Users/xiangyikong/Desktop/DeepGLEAM/sq_model/model/pytorch/median_prediction.npy\")\n",
    "high_prediction = np.load(\"/Users/xiangyikong/Desktop/DeepGLEAM/sq_model/model/pytorch/high_prediction.npy\")\n",
    "truth = np.load(\"/Users/xiangyikong/Desktop/DeepGLEAM/sq_model/model/pytorch/groundtruth.npy\")"
   ]
  },
  {
   "cell_type": "code",
   "execution_count": null,
   "metadata": {},
   "outputs": [],
   "source": [
    "sq_preds = np.stack([low_prediction,median_prediction,high_prediction]).transpose((3,2,1,0)).reshape(50,4,3)\n",
    "# np.stack([low_prediction,median_prediction,high_prediction]).transpose((3,2,1,0)).reshape(50,4,3)\n",
    "sq_truth = truth.reshape(50,4)"
   ]
  },
  {
   "cell_type": "code",
   "execution_count": null,
   "metadata": {},
   "outputs": [],
   "source": [
    "print(sq_truth.shape,\n",
    "sq_preds.shape)"
   ]
  },
  {
   "cell_type": "code",
   "execution_count": null,
   "metadata": {},
   "outputs": [],
   "source": [
    "x = np.arange(1,5)\n",
    "states = list(states_data[1])\n",
    "for i in range(50):\n",
    "    plt.plot(x, sq_preds[i,:,1],label = \"Prediction\")\n",
    "    plt.plot(x, sq_preds[i,:,0],label = \"Lower Bound\")\n",
    "    plt.plot(x, sq_preds[i,:,2],label = \"Upper Bound\")\n",
    "    plt.plot(x, sq_truth[i,:],label = \"Truth\")\n",
    "    plt.title(states[i])\n",
    "    plt.xlabel(\"Num of Weeks Ahead\")\n",
    "    plt.ylabel(\"Residual between Predicted and True\")\n",
    "    plt.legend(loc='best')\n",
    "    plt.show()"
   ]
  },
  {
   "cell_type": "markdown",
   "metadata": {},
   "source": [
    "#### Dropout Model"
   ]
  },
  {
   "cell_type": "code",
   "execution_count": null,
   "metadata": {},
   "outputs": [],
   "source": [
    "loaded = []\n",
    "for i in range(0,20):\n",
    "    temp = np.load(\"/Users/xiangyikong/Desktop/DeepGLEAM/dropout_model/plotweek31result/seed9/\" + str(i) + \".npz\")\n",
    "    loaded.append(temp)"
   ]
  },
  {
   "cell_type": "code",
   "execution_count": null,
   "metadata": {},
   "outputs": [],
   "source": [
    "loaded[0]['truth']"
   ]
  },
  {
   "cell_type": "code",
   "execution_count": null,
   "metadata": {},
   "outputs": [],
   "source": [
    "prediction_lst = []\n",
    "for i in range(0,20):\n",
    "    prediction_lst.append(loaded[i]['prediction'])\n",
    "truth_lst = []\n",
    "for i in range(0,20):\n",
    "    truth_lst.append(loaded[i]['truth'])"
   ]
  },
  {
   "cell_type": "code",
   "execution_count": null,
   "metadata": {},
   "outputs": [],
   "source": [
    "average_of_20_truth = np.mean(np.stack(truth_lst,axis = 0),axis=0).transpose((1,2,0)).reshape(50,4)"
   ]
  },
  {
   "cell_type": "code",
   "execution_count": null,
   "metadata": {},
   "outputs": [],
   "source": [
    "average_of_20_truth"
   ]
  },
  {
   "cell_type": "code",
   "execution_count": null,
   "metadata": {},
   "outputs": [],
   "source": [
    "np.stack(prediction_lst).shape"
   ]
  },
  {
   "cell_type": "code",
   "execution_count": null,
   "metadata": {},
   "outputs": [],
   "source": [
    "average_of_20 = np.mean(np.stack(prediction_lst),axis=0)"
   ]
  },
  {
   "cell_type": "code",
   "execution_count": null,
   "metadata": {},
   "outputs": [],
   "source": [
    "std_pred = np.std(np.stack(prediction_lst),axis=0)"
   ]
  },
  {
   "cell_type": "code",
   "execution_count": null,
   "metadata": {},
   "outputs": [],
   "source": [
    "lower_bound_pred = average_of_20 - 1.96*(std_pred)\n",
    "upper_bound_pred = average_of_20 + 1.96*(std_pred)\n",
    "# Replaced with mean -1.96std and mean + 1.96std\n",
    "# quantile_0_975 = np.quantile(np.stack(prediction_lst),0.975,axis=0)"
   ]
  },
  {
   "cell_type": "code",
   "execution_count": null,
   "metadata": {},
   "outputs": [],
   "source": [
    "x = np.arange(1,5)\n",
    "preds = np.stack([lower_bound_pred,average_of_20,upper_bound_pred]).transpose((3,1,2,0)).reshape(50,4,3)\n",
    "truth = np.mean(np.stack(truth_lst,axis = 0),axis=0).transpose((1,2,0)).reshape(50,4)\n",
    "states = list(states_data[1])\n",
    "for i in range(50):\n",
    "    plt.plot(x, preds[i,:,1],label = \"Prediction\")\n",
    "    plt.plot(x, preds[i,:,0],label = \"Lower Bound\")\n",
    "    plt.plot(x, preds[i,:,2],label = \"Upper Bound\")\n",
    "    plt.plot(x, truth[i,:],label = \"Truth\")\n",
    "    plt.title(states[i])\n",
    "    plt.xlabel(\"Num of Weeks Ahead\")\n",
    "    plt.ylabel(\"Residual between Predicted and True\")\n",
    "    plt.legend(loc='best')\n",
    "    plt.show()"
   ]
  },
  {
   "cell_type": "markdown",
   "metadata": {},
   "source": [
    "#### Week 34 Quantile Model"
   ]
  },
  {
   "cell_type": "code",
   "execution_count": null,
   "metadata": {},
   "outputs": [],
   "source": [
    "import pickle\n",
    "\n",
    "\n",
    "with open('/Users/xiangyikong/Desktop/DeepGLEAM/quantile_model/data/sensor_graph/adj_mx.pkl', 'rb') as f:\n",
    "    states_data = pickle.load(f)"
   ]
  },
  {
   "cell_type": "code",
   "execution_count": null,
   "metadata": {},
   "outputs": [],
   "source": [
    "x = np.arange(1,5)\n",
    "states = list(states_data[1])\n",
    "for i in range(50):\n",
    "    plt.plot(x, seed9epo311_prediction_reshaped[i,:,1])\n",
    "    plt.plot(x, seed9epo311_prediction_reshaped[i,:,0])\n",
    "    plt.plot(x, seed9epo311_prediction_reshaped[i,:,2])\n",
    "    plt.plot(x, seed9epo311_truth_reshaped[i,:])\n",
    "    plt.title(states[i])\n",
    "    plt.xlabel(\"Num of Weeks Ahead\")\n",
    "    plt.ylabel(\"Residual between Predicted and True\")\n",
    "    plt.show()"
   ]
  }
 ],
 "metadata": {
  "kernelspec": {
   "display_name": "Python 3.9.12 64-bit ('anaconda3')",
   "language": "python",
   "name": "python3"
  },
  "language_info": {
   "codemirror_mode": {
    "name": "ipython",
    "version": 3
   },
   "file_extension": ".py",
   "mimetype": "text/x-python",
   "name": "python",
   "nbconvert_exporter": "python",
   "pygments_lexer": "ipython3",
   "version": "3.9.7"
  },
  "orig_nbformat": 4,
  "vscode": {
   "interpreter": {
    "hash": "0662545c6fd30eceb00c46289e22b5a22aef9c4ebb29470f344626a3bc8eec96"
   }
  }
 },
 "nbformat": 4,
 "nbformat_minor": 2
}
