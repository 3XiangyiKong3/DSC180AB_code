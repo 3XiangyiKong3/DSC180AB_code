{
 "cells": [
  {
   "cell_type": "code",
   "execution_count": 2,
   "metadata": {},
   "outputs": [],
   "source": [
    "import pandas as pd\n",
    "import numpy as np\n",
    "from numpy import savetxt\n",
    "# pd.set_option('display.max_rows', None)\n",
    "# pd.set_option('display.max_columns', None)\n",
    "import sys\n",
    "# np.set_printoptions(threshold=sys.maxsize)\n",
    "import os\n",
    "import matplotlib.pyplot as plt\n",
    "from sklearn import datasets\n",
    "import us as usStates"
   ]
  },
  {
   "cell_type": "code",
   "execution_count": 3,
   "metadata": {},
   "outputs": [],
   "source": [
    "states_in_the_prediction = ['01','02','04','05','06','08','09','10','12','13','15','16','17','18','19','20','21','22','23','24','25','26','27','28','29','30','31','32','33','34','35','36','37','38','39','40',\n",
    " '41','42','44','45','46','47','48','49','50','51','53','54','55','56']"
   ]
  },
  {
   "cell_type": "code",
   "execution_count": 5,
   "metadata": {},
   "outputs": [],
   "source": [
    "truth_df = pd.read_csv(\"../data/CDC/truth-Incident Hospitalizations.csv\")\n",
    "truth_df = truth_df[truth_df['date'] >= '2022-01-01']\n",
    "truth_df = truth_df[truth_df['location'] != 'US']\n",
    "truth_df = truth_df[truth_df['location'].isin(states_in_the_prediction)]\n",
    "truth_df.sort_values(by=['date', 'location'], inplace=True)\n",
    "unique_dates = truth_df['date'].unique()\n",
    "unique_states = truth_df['location'].unique()\n",
    "\n",
    "weeks = np.zeros([len(unique_dates),len(unique_states)])\n",
    "for id1,i in enumerate(unique_dates):\n",
    "    for id2,j in enumerate(unique_states):\n",
    "        weeks[id1,id2] = truth_df[(truth_df['date']==i) & (truth_df['location']==j)]['value'].values"
   ]
  },
  {
   "cell_type": "code",
   "execution_count": 10,
   "metadata": {},
   "outputs": [
    {
     "data": {
      "text/plain": [
       "array([ 92.,   8., 139.,  97., 354.,  85.,  72.,  11., 625., 113.,   9.,\n",
       "        42., 160., 151.,  87.,  49.,  62.,  89.,  53., 102., 238., 290.,\n",
       "        48.,  47., 176.,  37.,  58.,  29.,  45., 157.,  43., 423., 129.,\n",
       "        48., 184., 268.,  62., 427.,  10.,  78.,  16.,  88., 705.,  27.,\n",
       "        10., 109., 133.,  36., 163.,  16.])"
      ]
     },
     "execution_count": 10,
     "metadata": {},
     "output_type": "execute_result"
    }
   ],
   "source": [
    "weeks[-4]"
   ]
  },
  {
   "cell_type": "code",
   "execution_count": 47,
   "metadata": {},
   "outputs": [],
   "source": [
    "train_data = []\n",
    "for i in range(len(weeks)-8):\n",
    "    train_data.append(weeks[i:i+8])\n",
    "train_data = np.array(train_data)"
   ]
  },
  {
   "cell_type": "code",
   "execution_count": 19,
   "metadata": {},
   "outputs": [],
   "source": [
    "train_data = []\n",
    "for i in range(len(weeks)-8):\n",
    "    train_data.append(weeks[i:i+8])\n",
    "train_data = np.array(train_data)\n",
    "np.random.shuffle(train_data)\n",
    "val_data = train_data[:10]\n",
    "train_data = train_data[10:]\n",
    "\n",
    "train_input = train_data[:, :4]\n",
    "train_label = train_data[:, 4:]\n",
    "val_input = val_data[:, :4]\n",
    "val_label = val_data[:, 4:]\n",
    "test_input = weeks[-5:-1].reshape(1,4,50)\n",
    "test_label =np.zero([1,4,50])\n",
    "\n",
    "x_train = train_input.reshape(40,1,6,50)\n",
    "y_train = train_label.reshape(40,1,1,50)\n",
    "x_val = val_input.reshape(10,1,6,50)\n",
    "y_val = val_label.reshape(10,1,1,50)\n",
    "x_test = test_input.reshape(2,1,6,50)\n",
    "y_test = test_label.reshape(2,1,1,50)"
   ]
  },
  {
   "cell_type": "code",
   "execution_count": 7,
   "metadata": {},
   "outputs": [],
   "source": [
    "# train_data = []\n",
    "# for i in range(len(weeks)-8):\n",
    "#     train_data.append(weeks[i:i+7])\n",
    "# train_data = np.array(train_data)\n",
    "# np.random.shuffle(train_data)\n",
    "# val_data = train_data[:10]\n",
    "# train_data = train_data[10:]\n",
    "\n",
    "# train_input = train_data[:, :6]\n",
    "# train_label = train_data[:, 6:]\n",
    "# val_input = val_data[:, :6]\n",
    "# val_label = val_data[:, 6:]\n",
    "# test_input = np.array([weeks[-8:-2],weeks[-7:-1]])\n",
    "# test_label = weeks[-2:].reshape(2,1,50)\n",
    "\n",
    "# x_train = train_input.reshape(40,1,6,50)\n",
    "# y_train = train_label.reshape(40,1,1,50)\n",
    "# x_val = val_input.reshape(10,1,6,50)\n",
    "# y_val = val_label.reshape(10,1,1,50)\n",
    "# x_test = test_input.reshape(2,1,6,50)\n",
    "# y_test = test_label.reshape(2,1,1,50)"
   ]
  },
  {
   "cell_type": "code",
   "execution_count": 11,
   "metadata": {},
   "outputs": [
    {
     "name": "stdout",
     "output_type": "stream",
     "text": [
      "train x:  (40, 1, 6, 50) y: (40, 1, 1, 50)\n",
      "val x:  (10, 1, 6, 50) y: (10, 1, 1, 50)\n",
      "test x:  (2, 1, 6, 50) y: (2, 1, 1, 50)\n"
     ]
    }
   ],
   "source": [
    "# Remember to change folder location !!!\n",
    "for cat in [\"train\", \"val\", \"test\"]:\n",
    "    _x, _y = locals()[\"x_\" + cat], locals()[\"y_\" + cat]\n",
    "    print(cat, \"x: \", _x.shape, \"y:\", _y.shape)\n",
    "    np.savez_compressed(\n",
    "        os.path.join(\"../data/shuffled_data/week1\", \"%s.npz\" % cat),\n",
    "        x=_x,\n",
    "        y=_y\n",
    "        # x_offsets=x_offsets.reshape(list(x_offsets.shape) + [1]),\n",
    "        # y_offsets=y_offsets.reshape(list(y_offsets.shape) + [1]),\n",
    "    )"
   ]
  },
  {
   "cell_type": "code",
   "execution_count": 14,
   "metadata": {},
   "outputs": [
    {
     "ename": "AttributeError",
     "evalue": "'numpy.ndarray' object has no attribute 'permute'",
     "output_type": "error",
     "traceback": [
      "\u001b[0;31m---------------------------------------------------------------------------\u001b[0m",
      "\u001b[0;31mAttributeError\u001b[0m                            Traceback (most recent call last)",
      "\u001b[0;32m/var/folders/z5/qndjgmp94tgckrl38gcbw_9h0000gn/T/ipykernel_72586/864774383.py\u001b[0m in \u001b[0;36m<module>\u001b[0;34m\u001b[0m\n\u001b[0;32m----> 1\u001b[0;31m \u001b[0mx_train\u001b[0m\u001b[0;34m.\u001b[0m\u001b[0mpermute\u001b[0m\u001b[0;34m(\u001b[0m\u001b[0;36m1\u001b[0m\u001b[0;34m,\u001b[0m\u001b[0;36m0\u001b[0m\u001b[0;34m,\u001b[0m\u001b[0;36m2\u001b[0m\u001b[0;34m,\u001b[0m\u001b[0;36m3\u001b[0m\u001b[0;34m)\u001b[0m\u001b[0;34m\u001b[0m\u001b[0;34m\u001b[0m\u001b[0m\n\u001b[0m",
      "\u001b[0;31mAttributeError\u001b[0m: 'numpy.ndarray' object has no attribute 'permute'"
     ]
    }
   ],
   "source": []
  },
  {
   "cell_type": "code",
   "execution_count": 98,
   "metadata": {},
   "outputs": [],
   "source": [
    "# train_input = []\n",
    "# for i in range(len(weeks)-8):\n",
    "#     train_input.append(weeks[i:i+6])\n",
    "# train_input = np.array(train_input)\n",
    "# x1 = np.concatenate(train_input, axis=0)\n",
    "\n",
    "# train_label = []\n",
    "# for i in range(len(weeks)-8):\n",
    "#     train_label.append(weeks[i+6:i+7])\n",
    "# train_label = np.array(train_label)\n",
    "# y1 = np.concatenate(train_label, axis=0)\n",
    "# x_test = weeks[-7:-1]\n",
    "# y_test = np.zeros([50,50])"
   ]
  },
  {
   "cell_type": "code",
   "execution_count": 112,
   "metadata": {},
   "outputs": [],
   "source": [
    "# # split the data into train and validation sets\n",
    "# loader_temp = weeks.copy().transpose(1,0)\n",
    "# train_data = loader_temp[:,:-2].copy() #train_data = loader_temp[:,:-4].copy()\n",
    "# train_data = np.concatenate([train_data[:,i:i+10] for i in range(0, 46, 1)], axis = 0)\n",
    "# np.random.shuffle(train_data)\n",
    "# val_data = train_data[:500]\n",
    "# train_data = train_data[500:]\n",
    "# test_data = loader_temp[:,-8:].copy() # test_data = loader_temp[:,-10:].copy()\n",
    "\n",
    "# train_inputs = np.array(train_data[:, :6])\n",
    "# train_labels = np.array(train_data[:, 6:])\n",
    "\n",
    "# val_inputs = np.array(val_data[:, :6])\n",
    "# val_labels = np.array(val_data[:, 6:])\n",
    "\n",
    "# test_inputs = np.array(test_data[:, :6])\n",
    "# test_labels = np.array(test_data[:, 6:])\n",
    "\n",
    "# mean = train_inputs.mean()\n",
    "# std = train_inputs.std()\n",
    "\n",
    "# train_inputs = (train_inputs - mean) / std\n",
    "# val_inputs = (val_inputs - mean) / std\n",
    "# train_labels = (train_labels - mean) / std\n",
    "# val_labels = (val_labels - mean) / std\n",
    "# test_inputs = (test_inputs  - mean) / std"
   ]
  },
  {
   "cell_type": "code",
   "execution_count": null,
   "metadata": {},
   "outputs": [],
   "source": [
    "# difference = np.absolute(y_test)\n",
    "# difference[difference != difference] = 0\n",
    "# mae = difference.mean()\n",
    "# mae"
   ]
  }
 ],
 "metadata": {
  "kernelspec": {
   "display_name": "base",
   "language": "python",
   "name": "python3"
  },
  "language_info": {
   "codemirror_mode": {
    "name": "ipython",
    "version": 3
   },
   "file_extension": ".py",
   "mimetype": "text/x-python",
   "name": "python",
   "nbconvert_exporter": "python",
   "pygments_lexer": "ipython3",
   "version": "3.9.7"
  },
  "orig_nbformat": 4,
  "vscode": {
   "interpreter": {
    "hash": "0662545c6fd30eceb00c46289e22b5a22aef9c4ebb29470f344626a3bc8eec96"
   }
  }
 },
 "nbformat": 4,
 "nbformat_minor": 2
}
