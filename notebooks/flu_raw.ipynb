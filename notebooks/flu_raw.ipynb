{
 "cells": [
  {
   "cell_type": "code",
   "execution_count": 1,
   "metadata": {},
   "outputs": [],
   "source": [
    "import pandas as pd\n",
    "import numpy as np\n",
    "from numpy import savetxt\n",
    "# pd.set_option('display.max_rows', None)\n",
    "# pd.set_option('display.max_columns', None)\n",
    "import sys\n",
    "# np.set_printoptions(threshold=sys.maxsize)\n",
    "import os\n",
    "import matplotlib.pyplot as plt\n",
    "from sklearn import datasets\n",
    "import us as usStates"
   ]
  },
  {
   "cell_type": "code",
   "execution_count": 2,
   "metadata": {},
   "outputs": [],
   "source": [
    "states_in_the_prediction = ['01',\n",
    " '02',\n",
    " '04',\n",
    " '05',\n",
    " '06',\n",
    " '08',\n",
    " '09',\n",
    " '10',\n",
    " '12',\n",
    " '13',\n",
    " '15',\n",
    " '16',\n",
    " '17',\n",
    " '18',\n",
    " '19',\n",
    " '20',\n",
    " '21',\n",
    " '22',\n",
    " '23',\n",
    " '24',\n",
    " '25',\n",
    " '26',\n",
    " '27',\n",
    " '28',\n",
    " '29',\n",
    " '30',\n",
    " '31',\n",
    " '32',\n",
    " '33',\n",
    " '34',\n",
    " '35',\n",
    " '36',\n",
    " '37',\n",
    " '38',\n",
    " '39',\n",
    " '40',\n",
    " '41',\n",
    " '42',\n",
    " '44',\n",
    " '45',\n",
    " '46',\n",
    " '47',\n",
    " '48',\n",
    " '49',\n",
    " '50',\n",
    " '51',\n",
    " '53',\n",
    " '54',\n",
    " '55',\n",
    " '56']"
   ]
  },
  {
   "cell_type": "code",
   "execution_count": 3,
   "metadata": {},
   "outputs": [
    {
     "name": "stdout",
     "output_type": "stream",
     "text": [
      "(1, 48, 50)\n",
      "(48, 50, 1)\n"
     ]
    }
   ],
   "source": [
    "states_to_drop = ['11','US']\n",
    "dfg = pd.read_csv('/Users/xiangyikong/Desktop/Flu_preprocess/truth-Incident Hospitalizations.csv')\n",
    "dfg['date'] = pd.to_datetime(dfg['date'])\n",
    "dfg_date_filtered = dfg[(dfg['date'] >= '2022-02-26') & (dfg['date'] < '2023-01-28')]\n",
    "dfg_date_filtered = dfg_date_filtered[~dfg_date_filtered['location'].isin(states_to_drop)]\n",
    "dfg_date_filtered_temp = dfg_date_filtered.sort_values(by=['date', 'location'])\n",
    "dfg_date_filtered_temp = dfg_date_filtered[dfg_date_filtered['location'].isin(states_in_the_prediction)]\n",
    "time_length = dfg_date_filtered_temp['date'].nunique()\n",
    "state_length = dfg_date_filtered_temp['location'].nunique()\n",
    "flu_groundtruth = np.resize(dfg_date_filtered_temp.groupby(['date','location']).sum().to_numpy().T, (time_length,state_length)) # 32,50\n",
    "flu_groundtruth = flu_groundtruth.reshape(1,time_length,state_length)\n",
    "print(flu_groundtruth.shape)\n",
    "flu_groundtruth = flu_groundtruth.transpose(1,2,0)\n",
    "print(flu_groundtruth.shape)"
   ]
  },
  {
   "cell_type": "code",
   "execution_count": 4,
   "metadata": {},
   "outputs": [
    {
     "name": "stdout",
     "output_type": "stream",
     "text": [
      "[[ 0  0  0 ...  0  0  0]\n",
      " [ 1  1  1 ...  1  1  1]\n",
      " [ 2  2  2 ...  2  2  2]\n",
      " ...\n",
      " [45 45 45 ... 45 45 45]\n",
      " [46 46 46 ... 46 46 46]\n",
      " [47 47 47 ... 47 47 47]]\n"
     ]
    }
   ],
   "source": [
    "#x data\n",
    "\n",
    "x_num_samples, x_num_nodes = flu_groundtruth.shape[0], flu_groundtruth.shape[1]\n",
    "x_data = flu_groundtruth\n",
    "# x_data = residual.transpose(1,2,0)\n",
    "\n",
    "x_day = list(range(0,x_num_samples))\n",
    "\n",
    "x_day = np.tile(x_day, [1, x_num_nodes, 1]).transpose((2, 1, 0))\n",
    "x_data = np.concatenate([x_data,x_day], axis=-1)\n",
    "print(x_data[:,:,1])"
   ]
  },
  {
   "cell_type": "code",
   "execution_count": 5,
   "metadata": {},
   "outputs": [],
   "source": [
    "x1 = np.stack(x_data, axis=0)[:time_length-1]\n",
    "x1 = x1.reshape(time_length-1,1,state_length,2)"
   ]
  },
  {
   "cell_type": "code",
   "execution_count": 6,
   "metadata": {},
   "outputs": [
    {
     "data": {
      "text/plain": [
       "(47, 1, 50, 2)"
      ]
     },
     "execution_count": 6,
     "metadata": {},
     "output_type": "execute_result"
    }
   ],
   "source": [
    "x1.shape"
   ]
  },
  {
   "cell_type": "code",
   "execution_count": 7,
   "metadata": {},
   "outputs": [],
   "source": [
    "y_data = flu_groundtruth[1:,:,:]\n",
    "y1 = np.expand_dims(y_data,axis=1)\n",
    "y1 = y1.transpose(0,3,2,1)\n",
    "y_test = np.zeros([1,4,state_length,1])"
   ]
  },
  {
   "cell_type": "code",
   "execution_count": null,
   "metadata": {},
   "outputs": [],
   "source": [
    "x_test = x1[-1].reshape(1,1,state_length,2)"
   ]
  }
 ],
 "metadata": {
  "kernelspec": {
   "display_name": "base",
   "language": "python",
   "name": "python3"
  },
  "language_info": {
   "codemirror_mode": {
    "name": "ipython",
    "version": 3
   },
   "file_extension": ".py",
   "mimetype": "text/x-python",
   "name": "python",
   "nbconvert_exporter": "python",
   "pygments_lexer": "ipython3",
   "version": "3.9.7"
  },
  "orig_nbformat": 4,
  "vscode": {
   "interpreter": {
    "hash": "0662545c6fd30eceb00c46289e22b5a22aef9c4ebb29470f344626a3bc8eec96"
   }
  }
 },
 "nbformat": 4,
 "nbformat_minor": 2
}
